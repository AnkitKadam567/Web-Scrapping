{
 "cells": [
  {
   "cell_type": "code",
   "execution_count": 9,
   "metadata": {},
   "outputs": [],
   "source": [
    "import requests\n",
    "\n",
    "from bs4 import BeautifulSoup\n",
    "\n",
    "a=requests.get('https://in.hotels.com/search.do?resolved-location=CITY%3A1640701%3AUNKNOWN%3AUNKNOWN&destination-id=1640701&q-destination=Mumbai,%20India&q-check-in=2018-07-12&q-check-out=2018-07-13&q-rooms=1&q-room-0-adults=2&q-room-0-children=0&f-hotel-id=858331008')\n",
    "\n",
    "data=a.content\n",
    "l=[]\n",
    "soup=BeautifulSoup(data,'html.parser')\n",
    "all=soup.find_all('div',{'class':'hotel-wrap'})\n",
    "\n",
    "for item in all:\n",
    "    d={}\n",
    "    d['Hotel_name']=item.find('h3',{'class':'p-name'}).text\n",
    "    d['Address']=item.find('p',{'class':'p-adr'}).text\n",
    "    ul=item.find_all('li')\n",
    "    #print(ul)\n",
    "    d['Distance_from_city_center']=ul[0].text\n",
    "    d['Distance_from_Airport']=ul[1].text\n",
    "    rate=item.find('span',{'class':'guest-rating-value'})\n",
    "    try:\n",
    "        d['Hotel_Rating']=rate.find('strong').text\n",
    "    except:\n",
    "        d['Hotel_Rating']=None\n",
    "    try:\n",
    "        val=item.find('div',{'class':'price'})\n",
    "        if val.find('ins'):\n",
    "            d['Hotel_price']=val.find('ins').text\n",
    "        elif val.find('b'):\n",
    "            d['Hotel_price']=val.find('b').text\n",
    "        else:\n",
    "            d['Hotel_price']=None\n",
    "    except:\n",
    "        d['Hotel_price']=None\n",
    "    l.append(d)"
   ]
  },
  {
   "cell_type": "code",
   "execution_count": 10,
   "metadata": {},
   "outputs": [],
   "source": [
    "import pandas"
   ]
  },
  {
   "cell_type": "code",
   "execution_count": 11,
   "metadata": {},
   "outputs": [],
   "source": [
    "df=pandas.DataFrame(l)"
   ]
  },
  {
   "cell_type": "code",
   "execution_count": 13,
   "metadata": {},
   "outputs": [],
   "source": [
    "df.to_csv('hotel_webscrap.csv')"
   ]
  }
 ],
 "metadata": {
  "kernelspec": {
   "display_name": "Python 3",
   "language": "python",
   "name": "python3"
  },
  "language_info": {
   "codemirror_mode": {
    "name": "ipython",
    "version": 3
   },
   "file_extension": ".py",
   "mimetype": "text/x-python",
   "name": "python",
   "nbconvert_exporter": "python",
   "pygments_lexer": "ipython3",
   "version": "3.6.5"
  }
 },
 "nbformat": 4,
 "nbformat_minor": 2
}
